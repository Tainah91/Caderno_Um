{
  "nbformat": 4,
  "nbformat_minor": 0,
  "metadata": {
    "colab": {
      "provenance": []
    },
    "kernelspec": {
      "name": "python3",
      "display_name": "Python 3"
    },
    "language_info": {
      "name": "python"
    }
  },
  "cells": [
    {
      "cell_type": "code",
      "execution_count": 1,
      "metadata": {
        "colab": {
          "base_uri": "https://localhost:8080/"
        },
        "id": "55LDkRt7BNTW",
        "outputId": "12993a08-7caa-4cc2-eeb5-a8978dd15278"
      },
      "outputs": [
        {
          "output_type": "stream",
          "name": "stdout",
          "text": [
            "Python é alto nível !\n",
            "Python é fortemente tipada !\n",
            "Python é multiparadigma !\n",
            "Python é interpretada !\n",
            "É Case Sensitive !\n"
          ]
        }
      ],
      "source": [
        "print(\"Python é alto nível !\")\n",
        "print(\"Python é fortemente tipada !\")\n",
        "print(\"Python é multiparadigma !\")\n",
        "print(\"Python é interpretada !\")\n",
        "print(\"É Case Sensitive !\")\n"
      ]
    },
    {
      "cell_type": "code",
      "source": [
        "print(\"Estou Aprendendo Python\")\n",
        "print(\"Estou Aprendendo Python\")\n",
        "print(\"Estou Aprendendo Python\")\n",
        "print(\"Estou Aprendendo Python\")\n",
        "print(\"Estou Aprendendo Python\")"
      ],
      "metadata": {
        "colab": {
          "base_uri": "https://localhost:8080/"
        },
        "id": "rLHmAXQxJIvI",
        "outputId": "6e8322e2-ab81-493a-fe46-c9aab952b8ae"
      },
      "execution_count": 2,
      "outputs": [
        {
          "output_type": "stream",
          "name": "stdout",
          "text": [
            "Estou Aprendendo Python\n",
            "Estou Aprendendo Python\n",
            "Estou Aprendendo Python\n",
            "Estou Aprendendo Python\n",
            "Estou Aprendendo Python\n"
          ]
        }
      ]
    },
    {
      "cell_type": "code",
      "source": [
        "print(\"Python \\n Maravilha!\")"
      ],
      "metadata": {
        "colab": {
          "base_uri": "https://localhost:8080/"
        },
        "id": "mcNfk6z7JqS2",
        "outputId": "7d2a0563-c2f7-485a-9795-179cf520f766"
      },
      "execution_count": 3,
      "outputs": [
        {
          "output_type": "stream",
          "name": "stdout",
          "text": [
            "Python \n",
            " Maravilha!\n"
          ]
        }
      ]
    },
    {
      "cell_type": "code",
      "source": [
        "print(\"Python pode usar \\t tabulação!\")"
      ],
      "metadata": {
        "colab": {
          "base_uri": "https://localhost:8080/"
        },
        "id": "q84izz6XKlo_",
        "outputId": "e774e5b3-d72c-4f24-f5f4-ebc5fd32d745"
      },
      "execution_count": 4,
      "outputs": [
        {
          "output_type": "stream",
          "name": "stdout",
          "text": [
            "Python pode usar \t tabulação!\n"
          ]
        }
      ]
    },
    {
      "cell_type": "code",
      "source": [
        "print (\"No Python equivale \\r um enter\")"
      ],
      "metadata": {
        "colab": {
          "base_uri": "https://localhost:8080/"
        },
        "id": "eEG76dT-K_em",
        "outputId": "57a68375-08f6-48aa-dfba-e4ee27928b0b"
      },
      "execution_count": 5,
      "outputs": [
        {
          "output_type": "stream",
          "name": "stdout",
          "text": [
            "No Python equivale \r um enter\n"
          ]
        }
      ]
    },
    {
      "cell_type": "code",
      "source": [
        "print(\"Imprima o \\'\")"
      ],
      "metadata": {
        "colab": {
          "base_uri": "https://localhost:8080/"
        },
        "id": "q1DnzqS9LGJe",
        "outputId": "b70e6d47-492c-4d0e-95a3-83151a373c92"
      },
      "execution_count": 6,
      "outputs": [
        {
          "output_type": "stream",
          "name": "stdout",
          "text": [
            "Imprima o '\n"
          ]
        }
      ]
    },
    {
      "cell_type": "code",
      "source": [
        "print(\"Python é uma \",end=\"#####\")\n",
        "print(\" Maravilha\")"
      ],
      "metadata": {
        "colab": {
          "base_uri": "https://localhost:8080/"
        },
        "id": "i20YIAbsLa2m",
        "outputId": "da0646a8-e1d2-4f6f-bf3f-82f1821fb3cc"
      },
      "execution_count": 7,
      "outputs": [
        {
          "output_type": "stream",
          "name": "stdout",
          "text": [
            "Python é uma ##### Maravilha\n"
          ]
        }
      ]
    },
    {
      "cell_type": "code",
      "source": [
        "print(\"A\",\"B\",\"C\", 0,sep=\"*\")"
      ],
      "metadata": {
        "colab": {
          "base_uri": "https://localhost:8080/"
        },
        "id": "uUs9z4tTLpGn",
        "outputId": "b0a86d4f-d1e5-4247-a693-cb80d9f12137"
      },
      "execution_count": 8,
      "outputs": [
        {
          "output_type": "stream",
          "name": "stdout",
          "text": [
            "A*B*C*0\n"
          ]
        }
      ]
    },
    {
      "cell_type": "code",
      "source": [
        "print(\"A\",\"B\",\"C\",0,sep=\"\\n\")"
      ],
      "metadata": {
        "colab": {
          "base_uri": "https://localhost:8080/"
        },
        "id": "lTgIQfUUL2y2",
        "outputId": "78792280-8454-47e8-a5e3-6b5ca132435a"
      },
      "execution_count": 9,
      "outputs": [
        {
          "output_type": "stream",
          "name": "stdout",
          "text": [
            "A\n",
            "B\n",
            "C\n",
            "0\n"
          ]
        }
      ]
    },
    {
      "cell_type": "code",
      "source": [
        "print(\"   *   \")\n",
        "print(\"  ***  \")\n",
        "print(\" ***** \")\n",
        "print(\"********\")\n",
        "print(\"  ||| \")"
      ],
      "metadata": {
        "colab": {
          "base_uri": "https://localhost:8080/"
        },
        "id": "JZcoY3zSMe79",
        "outputId": "18f03906-3971-4279-fff6-30f2e93619a6"
      },
      "execution_count": 10,
      "outputs": [
        {
          "output_type": "stream",
          "name": "stdout",
          "text": [
            "   *   \n",
            "  ***  \n",
            " ***** \n",
            "********\n",
            "  ||| \n"
          ]
        }
      ]
    },
    {
      "cell_type": "code",
      "source": [
        "#Listar os tipos de dados conforme valores das variáveis\n",
        "\n",
        "x=1\n",
        "y=2.0\n",
        "soma = 5+5\n",
        "nome = \"Rômulo\"\n",
        "sobrenome = 'Cesar'\n",
        "ligado = True\n",
        "print(f\"{x},{y}{soma},{nome},{sobrenome},{ligado}\")\n",
        "print(f\"{type(x)},{type(y)},{type(soma)}, {type(nome)}, {type(sobrenome)},{type(ligado)}\")\n"
      ],
      "metadata": {
        "colab": {
          "base_uri": "https://localhost:8080/"
        },
        "id": "b1HglESANaEl",
        "outputId": "99cee75e-cdc4-412e-acba-20142c4dc35d"
      },
      "execution_count": 11,
      "outputs": [
        {
          "output_type": "stream",
          "name": "stdout",
          "text": [
            "1,2.010,Rômulo,Cesar,True\n",
            "<class 'int'>,<class 'float'>,<class 'int'>, <class 'str'>, <class 'str'>,<class 'bool'>\n"
          ]
        }
      ]
    },
    {
      "cell_type": "code",
      "source": [
        "nome = 10 # não é um string\n",
        "romulo = 45 # não é um string porque é um número\n",
        "desligado = \"sim\" # é um string\n",
        "\n",
        "print(type(nome))\n",
        "print(type(romulo))\n",
        "print(type(desligado))\n"
      ],
      "metadata": {
        "colab": {
          "base_uri": "https://localhost:8080/"
        },
        "id": "qOCQ-U7XPEXD",
        "outputId": "4aa615ba-48d9-455b-df8e-c20f38654f84"
      },
      "execution_count": 12,
      "outputs": [
        {
          "output_type": "stream",
          "name": "stdout",
          "text": [
            "<class 'int'>\n",
            "<class 'int'>\n",
            "<class 'str'>\n"
          ]
        }
      ]
    },
    {
      "cell_type": "code",
      "source": [
        "#Considere a seguinte variável:\n",
        "valor = 2.718281\n",
        "print(f\"Formatando casas decimais: {valor:.2f}\")"
      ],
      "metadata": {
        "colab": {
          "base_uri": "https://localhost:8080/"
        },
        "id": "GXWfyJpTRmrt",
        "outputId": "a0b991a0-e9c7-4498-c09a-3d1697426c5a"
      },
      "execution_count": 13,
      "outputs": [
        {
          "output_type": "stream",
          "name": "stdout",
          "text": [
            "Formatando casas decimais: 2.72\n"
          ]
        }
      ]
    },
    {
      "cell_type": "code",
      "source": [
        "#Criar uma constrante de PI com valor real\n",
        "#Criar um print com o valor formatado com duas casas decimais\n",
        "\n",
        "PI = 3.1415926535\n",
        "print(f\"Formatando casas decimais: {PI:.2f}\")"
      ],
      "metadata": {
        "colab": {
          "base_uri": "https://localhost:8080/"
        },
        "id": "JJ5FV9WER_2V",
        "outputId": "d833e155-98df-454b-f8db-dee8502bf14a"
      },
      "execution_count": 16,
      "outputs": [
        {
          "output_type": "stream",
          "name": "stdout",
          "text": [
            "Formatando casas decimais: 3.14\n"
          ]
        }
      ]
    },
    {
      "cell_type": "code",
      "source": [
        "soma =0 #inicializa a variável com zero\n",
        "for i in range (1,101) :\n",
        "  soma = soma + i\n",
        "\n",
        "print (f\"A soma dos número de 1 a 100 é {soma}\")\n"
      ],
      "metadata": {
        "colab": {
          "base_uri": "https://localhost:8080/"
        },
        "id": "gCr_LW3-Sv0V",
        "outputId": "56ed7cea-bd05-4d56-eba1-fe5572ca42aa"
      },
      "execution_count": 18,
      "outputs": [
        {
          "output_type": "stream",
          "name": "stdout",
          "text": [
            "A soma dos número de 1 a 100 é 5050\n"
          ]
        }
      ]
    },
    {
      "cell_type": "code",
      "source": [
        "#Criar uma variável chamada delta com o valor -40\n",
        "#Criar uma condição if o valor é maior ou menor que zero\n",
        "\n",
        "delta = -40\n",
        "\n",
        "if delta > 0 :\n",
        "  print(f\"O valor de delta é {delta} é maior que zero !\")\n",
        "elif delta < 0 :\n",
        "  print(f\"O valor de delta é {delta} é menor que zero !\")"
      ],
      "metadata": {
        "colab": {
          "base_uri": "https://localhost:8080/"
        },
        "id": "mI4ZxCXITK3l",
        "outputId": "6a53e8c7-1d30-4f77-9082-044d9dcea6fb"
      },
      "execution_count": 29,
      "outputs": [
        {
          "output_type": "stream",
          "name": "stdout",
          "text": [
            "O valor de delta é -40 é menor que zero !\n"
          ]
        }
      ]
    },
    {
      "cell_type": "code",
      "source": [
        "matriz_4x3 = [[21,22,23],[24,25,26],[27,28,29],[30,31,32]]\n",
        "\n",
        "print(matriz_4x3)"
      ],
      "metadata": {
        "colab": {
          "base_uri": "https://localhost:8080/"
        },
        "id": "oOqGtT9AWudM",
        "outputId": "7ecf41a3-6d41-4a64-a6f0-d7454009b4d2"
      },
      "execution_count": 34,
      "outputs": [
        {
          "output_type": "stream",
          "name": "stdout",
          "text": [
            "[[21, 22, 23], [24, 25, 26], [27, 28, 29], [30, 31, 32]]\n"
          ]
        }
      ]
    },
    {
      "cell_type": "code",
      "source": [
        "matriz_4x3 = 21,22,23,24,25,26,27,28,29,30,31,32\n",
        "\n",
        "print(matriz_4x3)"
      ],
      "metadata": {
        "colab": {
          "base_uri": "https://localhost:8080/"
        },
        "id": "YZUoScMlXcAr",
        "outputId": "aacf0e90-db01-44c8-efee-b35cf2974674"
      },
      "execution_count": 35,
      "outputs": [
        {
          "output_type": "stream",
          "name": "stdout",
          "text": [
            "(21, 22, 23, 24, 25, 26, 27, 28, 29, 30, 31, 32)\n"
          ]
        }
      ]
    }
  ]
}